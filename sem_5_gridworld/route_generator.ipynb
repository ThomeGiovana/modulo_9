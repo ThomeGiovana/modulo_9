{
  "nbformat": 4,
  "nbformat_minor": 0,
  "metadata": {
    "colab": {
      "provenance": []
    },
    "kernelspec": {
      "name": "python3",
      "display_name": "Python 3"
    },
    "language_info": {
      "name": "python"
    }
  },
  "cells": [
    {
      "cell_type": "code",
      "source": [
        "import random\n",
        "import numpy as np"
      ],
      "metadata": {
        "id": "gPHKMo9Qobx7"
      },
      "execution_count": 169,
      "outputs": []
    },
    {
      "cell_type": "markdown",
      "source": [
        "# 1. Criação do grid"
      ],
      "metadata": {
        "id": "mv69B2Lwm9ta"
      }
    },
    {
      "cell_type": "code",
      "source": [
        "def randomCell():\n",
        "  line = random.randint(0, 7)\n",
        "  col = random.randint(0, 7)\n",
        "  return [line, col]"
      ],
      "metadata": {
        "id": "fL6R8C1ToGhI"
      },
      "execution_count": 170,
      "outputs": []
    },
    {
      "cell_type": "code",
      "execution_count": 171,
      "metadata": {
        "id": "pPV-UhqZ-oJF"
      },
      "outputs": [],
      "source": [
        "def gridInit():\n",
        "\n",
        "  grid = []\n",
        "  currentLineList = []\n",
        "  lines = 8\n",
        "  cols = 8\n",
        "  currentLine = 1\n",
        "  currentCol = 1\n",
        "\n",
        "  # percorre linha por linha\n",
        "  while currentLine <= lines:\n",
        "    while currentCol <= cols:\n",
        "      currentLineList.append({\n",
        "          \"valueUp\": 0,\n",
        "          \"valueDown\": 0,\n",
        "          \"valueLeft\": 0,\n",
        "          \"valueRight\": 0,\n",
        "          \"type\": \"-\"\n",
        "          })\n",
        "      currentCol += 1\n",
        "    grid.append(currentLineList)\n",
        "    currentLineList = []\n",
        "    currentLine += 1\n",
        "    currentCol = 1 # reseta a coluna pro início cada vez que a linha muda\n",
        "\n",
        "  # colocando célular randômicas\n",
        "  randomStart = randomCell()\n",
        "  randomEnd = randomCell()\n",
        "  randomMountain = randomCell()\n",
        "  randomQuicksand = randomCell()\n",
        "  grid[randomStart[0]][randomStart[1]][\"type\"] = \"S\"\n",
        "  grid[randomEnd[0]][randomEnd[1]][\"type\"] = \"E\"\n",
        "  grid[randomMountain[0]][randomMountain[1]][\"type\"] = \"M\"\n",
        "  grid[randomQuicksand[0]][randomQuicksand[1]][\"type\"] = \"Q\"\n",
        "\n",
        "  return grid, randomStart, randomEnd, randomMountain, randomQuicksand"
      ]
    },
    {
      "cell_type": "markdown",
      "source": [
        "# 2. Print do grid"
      ],
      "metadata": {
        "id": "emgXrL4TnKNH"
      }
    },
    {
      "cell_type": "code",
      "source": [
        "def gridPrint(grid):\n",
        "  currentLine = 0\n",
        "  currentCol = 0\n",
        "  while currentLine < 8:\n",
        "    strLine = \"\"\n",
        "    while currentCol < 8:\n",
        "      strLine += grid[currentLine][currentCol][\"type\"] + \" \"\n",
        "      currentCol += 1\n",
        "    print(strLine)\n",
        "    currentCol = 0\n",
        "    currentLine += 1"
      ],
      "metadata": {
        "id": "ckK6ZEltnM3-"
      },
      "execution_count": 172,
      "outputs": []
    },
    {
      "cell_type": "markdown",
      "source": [
        "# 3. Conjunto de ações que o agente pode realizar\n",
        "O ambiente assume que o agente não pode tomar a decisão de ir para fora do grid ou mover-se para uma posição de montanha. Essas ações não estarão disponíveis para escolha dependendo de sua posição.\n",
        "Se, por acaso, o número de montanhas aumentar, a função `availableActions()` contempla + de uma montanha por grid.\n",
        "A função não contempla grids diferentes de 8x8, o código teria que ser editado para isso."
      ],
      "metadata": {
        "id": "-uZuj6R9vkOe"
      }
    },
    {
      "cell_type": "code",
      "source": [
        "def availableActions(agentPosition, mountainPosition):\n",
        "  # positions têm forma [line, col]\n",
        "  up = True\n",
        "  down = True\n",
        "  left = True\n",
        "  right = True\n",
        "\n",
        "  # handle de linhas e colunas limites\n",
        "  if agentPosition[1] == 7: # se está na col 7\n",
        "    right = False\n",
        "  if agentPosition[1] == 0: # se está na col 0\n",
        "    left = False\n",
        "  if agentPosition[0] == 0: # se está na line 0\n",
        "    up = False\n",
        "  if agentPosition[0] == 7:\n",
        "    down = False\n",
        "\n",
        "  # handle de mountain\n",
        "  mountainLine = mountainPosition[0]\n",
        "  mountainCol = mountainPosition[1]\n",
        "  if agentPosition[0] + 1 == mountainLine: # se a montanha está em baixo do agente\n",
        "    down = False\n",
        "  if agentPosition[0] - 1 == mountainLine: # se a montanha está em cima do agente\n",
        "    up = False\n",
        "  if agentPosition[1] + 1 == mountainCol: # se a montanha está à direita do agente\n",
        "    right = False\n",
        "  if agentPosition[1] - 1 == mountainCol: # se a montanha está à esquerda do agente\n",
        "    left = False\n",
        "\n",
        "  return up, down, left, right"
      ],
      "metadata": {
        "id": "p7fdGLnUvoeP"
      },
      "execution_count": 173,
      "outputs": []
    },
    {
      "cell_type": "markdown",
      "source": [
        "# 4. Recompensas\n",
        "- Entrar na areia movediça = -10\n",
        "- Mover-se para qualquer posição que não seja final = -1\n",
        "- Mover-se para estado final = +100\n"
      ],
      "metadata": {
        "id": "ZpisPp0E1gwS"
      }
    },
    {
      "cell_type": "code",
      "source": [
        "def rewardBasedOnAction(action, agentPosition, endPosition, quicksandPosition):\n",
        "  if action == 0: # up\n",
        "    newPosition = [agentPosition[0] - 1, agentPosition[1]]\n",
        "  elif action == 1: # down\n",
        "    newPosition = [agentPosition[0] + 1, agentPosition[1]]\n",
        "  elif action == 2: # left\n",
        "    newPosition = [agentPosition[0], agentPosition[1] - 1]\n",
        "  elif action == 3: # right\n",
        "    newPosition = [agentPosition[0], agentPosition[1] + 1]\n",
        "  else:\n",
        "    raise ValueError(\"Action out of range\")\n",
        "\n",
        "  if newPosition == endPosition:\n",
        "    return newPosition, +100\n",
        "  elif newPosition == quicksandPosition:\n",
        "    return newPosition, -10\n",
        "  else:\n",
        "    return newPosition, -1"
      ],
      "metadata": {
        "id": "9zwKO0oH1kaj"
      },
      "execution_count": 174,
      "outputs": []
    },
    {
      "cell_type": "markdown",
      "source": [
        "# Atualização de qualidades com Q-learning\n",
        "O agente tentará aprender a melhor política utilizando o algoritmo Q-learning"
      ],
      "metadata": {
        "id": "KNMpiKnBVEmw"
      }
    },
    {
      "cell_type": "code",
      "source": [
        "def updateCellQuality(oldQuality, reward, maxNextActionValue):\n",
        "  # parâmetros do q-learning\n",
        "  discountFactor = 0.9\n",
        "  learningRate = 0.1\n",
        "  return oldQuality + (learningRate * (reward + (discountFactor * maxNextActionValue) - oldQuality))"
      ],
      "metadata": {
        "id": "DPf9QxJkVKTT"
      },
      "execution_count": 175,
      "outputs": []
    },
    {
      "cell_type": "code",
      "source": [
        "def checkIfQualitiesAreEqual(upValue, downValue, leftValue, rightValue):\n",
        "  return upValue == downValue == leftValue == rightValue"
      ],
      "metadata": {
        "id": "vq1xkAXpnuSN"
      },
      "execution_count": 176,
      "outputs": []
    },
    {
      "cell_type": "code",
      "source": [
        "def checkIfRandomActionIsPossible(action, up, down, left, right):\n",
        "    isRandomActionPossible = False\n",
        "    while isRandomActionPossible == False:\n",
        "      action = random.randint(0, 3)\n",
        "      if action == 0:\n",
        "        if up == False:\n",
        "          pass\n",
        "        else:\n",
        "          isRandomActionPossible = True\n",
        "      elif action == 1:\n",
        "        if down == False:\n",
        "          pass\n",
        "        else:\n",
        "          isRandomActionPossible = True\n",
        "      elif action == 2:\n",
        "        if left == False:\n",
        "          pass\n",
        "        else:\n",
        "          isRandomActionPossible = True\n",
        "      elif action == 3:\n",
        "        if right == False:\n",
        "          pass\n",
        "        else:\n",
        "          isRandomActionPossible = True\n",
        "    return action\n"
      ],
      "metadata": {
        "id": "qs3wFJJyo2Ms"
      },
      "execution_count": 177,
      "outputs": []
    },
    {
      "cell_type": "code",
      "source": [
        "def actionChooser(grid, agentPosition, up, down, left, right):\n",
        "  exploitationRate = 60 # em %\n",
        "  whatWillIDo = random.randint(1, 100)\n",
        "  goingUp = grid[agentPosition[0]][agentPosition[1]][\"valueUp\"]\n",
        "  goingDown = grid[agentPosition[0]][agentPosition[1]][\"valueDown\"]\n",
        "  goingLeft = grid[agentPosition[0]][agentPosition[1]][\"valueLeft\"]\n",
        "  goingRight = grid[agentPosition[0]][agentPosition[1]][\"valueRight\"]\n",
        "  if whatWillIDo >= exploitationRate: # explora\n",
        "    action = random.randint(0, 3)\n",
        "    action = checkIfRandomActionIsPossible(action, up, down, left, right)\n",
        "  else: # exploita\n",
        "    # se todas as qualidades das ações são iguais, toma uma aleatória possível\n",
        "    if checkIfQualitiesAreEqual(goingUp, goingDown, goingLeft, goingRight):\n",
        "      action = random.randint(0, 3)\n",
        "      action = checkIfRandomActionIsPossible(action, up, down, left, right)\n",
        "\n",
        "    # senão, seleciona a maior qualidade de estado/ação\n",
        "    else:\n",
        "      possibleActions = []\n",
        "      if up == True:\n",
        "        possibleActions.append(goingUp)\n",
        "      if down == True:\n",
        "        possibleActions.append(goingDown)\n",
        "      if left == True:\n",
        "        possibleActions.append(goingLeft)\n",
        "      if right == True:\n",
        "        possibleActions.append(goingRight)\n",
        "      action = np.argmax(possibleActions)\n",
        "\n",
        "  return action"
      ],
      "metadata": {
        "id": "Y7L_J3SyXlaU"
      },
      "execution_count": 178,
      "outputs": []
    },
    {
      "cell_type": "code",
      "source": [
        "def maxNextStateActionQualityCalculator(grid, nextPosition, up, down, left, right):\n",
        "  goingUp = grid[nextPosition[0]][nextPosition[1]][\"valueUp\"]\n",
        "  goingDown = grid[nextPosition[0]][nextPosition[1]][\"valueDown\"]\n",
        "  goingLeft = grid[nextPosition[0]][nextPosition[1]][\"valueLeft\"]\n",
        "  goingRight = grid[nextPosition[0]][nextPosition[1]][\"valueRight\"]\n",
        "  allValues = []\n",
        "  if up == True:\n",
        "    allValues.append(goingUp)\n",
        "  if down == True:\n",
        "    allValues.append(goingDown)\n",
        "  if left == True:\n",
        "    allValues.append(goingLeft)\n",
        "  if right == True:\n",
        "    allValues.append(goingRight)\n",
        "  return np.argmax(allValues)"
      ],
      "metadata": {
        "id": "8lpyN_G7YqVu"
      },
      "execution_count": 179,
      "outputs": []
    },
    {
      "cell_type": "markdown",
      "source": [
        "# Execução do ambiente"
      ],
      "metadata": {
        "id": "Gtk6kQjOqQcv"
      }
    },
    {
      "cell_type": "code",
      "source": [
        "# inicialização do ambiente\n",
        "grid, randomStart, endPosition, mountainPosition, quicksandPosition = gridInit()\n",
        "gridPrint(grid)"
      ],
      "metadata": {
        "colab": {
          "base_uri": "https://localhost:8080/"
        },
        "id": "58EwBofYqTb1",
        "outputId": "b8058ca4-7308-4df3-e9d4-d7c37a5b9df7"
      },
      "execution_count": 180,
      "outputs": [
        {
          "output_type": "stream",
          "name": "stdout",
          "text": [
            "- - - - - - Q S \n",
            "- - - - - - - - \n",
            "- - - - - - - - \n",
            "- - - - - - - - \n",
            "- - - - - - - - \n",
            "- - - - - - - - \n",
            "- - - - M - - - \n",
            "- - - E - - - - \n"
          ]
        }
      ]
    },
    {
      "cell_type": "markdown",
      "source": [
        "## Rodando Q-learning"
      ],
      "metadata": {
        "id": "lv_uV-cNYSCd"
      }
    },
    {
      "cell_type": "code",
      "source": [
        "def turnActionToString(action):\n",
        "  if action == 0:\n",
        "    return \"valueUp\"\n",
        "  elif action == 1:\n",
        "    return \"valueDown\"\n",
        "  elif action == 2:\n",
        "    return \"valueLeft\"\n",
        "  elif action == 3:\n",
        "    return \"valueRight\""
      ],
      "metadata": {
        "id": "hqjkeUIyZzTq"
      },
      "execution_count": 181,
      "outputs": []
    },
    {
      "cell_type": "code",
      "source": [
        "print(randomStart)"
      ],
      "metadata": {
        "colab": {
          "base_uri": "https://localhost:8080/"
        },
        "id": "QXDICLII6FSr",
        "outputId": "d4a8109c-38d5-4da3-d78f-1e9a3085d807"
      },
      "execution_count": 184,
      "outputs": [
        {
          "output_type": "stream",
          "name": "stdout",
          "text": [
            "[0, 7]\n"
          ]
        }
      ]
    },
    {
      "cell_type": "code",
      "source": [
        "agentPosition = randomStart\n",
        "iterations = 100\n",
        "qualityTable = []\n",
        "cumulativeReward = 0\n",
        "rewardsForEachEpisode = []\n",
        "done = False\n",
        "i = 0\n",
        "n = 0\n",
        "\n",
        "for i in range(iterations):\n",
        "  print(\"EPISODE \" + str(i) + \" -----------------------------------------------------------------------\")\n",
        "  while not done:\n",
        "    # finds the available actions for the current position\n",
        "    up, down, left, right = availableActions(agentPosition, mountainPosition)\n",
        "\n",
        "    # chooses action\n",
        "    action = actionChooser(grid, agentPosition, up, down, left, right)\n",
        "    print(\"Step action\" + str(action))\n",
        "    nextPosition, reward = rewardBasedOnAction(action, agentPosition, endPosition, quicksandPosition)\n",
        "    print(reward, nextPosition)\n",
        "    print(up, down, left, right)\n",
        "    cumulativeReward += reward\n",
        "\n",
        "    # utiliza as informações para atualizar as qualidades\n",
        "    maxNextStateActionQuality = maxNextStateActionQualityCalculator(grid, nextPosition, up, down, left, right)\n",
        "    actionString = turnActionToString(action)\n",
        "    currentStateActionQuality = grid[agentPosition[0]][agentPosition[1]][actionString]\n",
        "    updatedStateActionQuality = updateCellQuality(currentStateActionQuality, reward, maxNextStateActionQuality)\n",
        "    grid[agentPosition[0]][agentPosition[1]][actionString] = updatedStateActionQuality\n",
        "\n",
        "    # critério de parada\n",
        "    if agentPosition == quicksandPosition or agentPosition == endPosition:\n",
        "      done = True\n",
        "      break\n",
        "    # atualiza a posição do agente\n",
        "    agentPosition = nextPosition\n",
        "\n",
        "  rewardsForEachEpisode.append(cumulativeReward)\n",
        "  print(cumulativeReward)\n",
        "  agentPosition = randomStart\n",
        "  cumulativeReward = 0\n",
        "  done = False\n",
        "\n"
      ],
      "metadata": {
        "id": "qeupJbLdYRkk"
      },
      "execution_count": null,
      "outputs": []
    }
  ]
}